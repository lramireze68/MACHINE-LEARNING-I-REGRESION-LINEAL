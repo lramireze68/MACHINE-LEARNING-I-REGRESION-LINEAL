{
 "cells": [
  {
   "cell_type": "markdown",
   "metadata": {},
   "source": [
    "# Programming Exercise 1: Linear Regression with One Variable\n",
    "\n",
    "> En este ejercicio, implementará la regresión lineal y verá cómo funciona con los datos."
   ]
  },
  {
   "cell_type": "markdown",
   "metadata": {},
   "source": [
    "## 1. Linear Regression with One Variable\n",
    "\n",
    ">En esta parte del ejercicio, se imprementara regresión lineal con una variable para predecir la nota obtenida de un estudiante segun el tiempo de estudio invertido en Bogota.\n",
    "\n",
    "El archivo ex1data1.txt contiene el conjunto de datos para nuestro problema de regresión lineal. La primera columna representa las horas de estudio de un estudiante en bogota  y la segunda columna representa la nota final obtenida en la ciudad de bogota.\n",
    "\n",
    "### 1.1 Plotting the Data"
   ]
  },
  {
   "cell_type": "code",
   "execution_count": 7,
   "metadata": {},
   "outputs": [],
   "source": [
    "import numpy as np\n",
    "import pandas as pd\n",
    "import seaborn as sns\n",
    "import matplotlib.pyplot as plt\n",
    "%matplotlib inline"
   ]
  },
  {
   "cell_type": "code",
   "execution_count": 8,
   "metadata": {},
   "outputs": [
    {
     "data": {
      "text/html": [
       "<div>\n",
       "<style scoped>\n",
       "    .dataframe tbody tr th:only-of-type {\n",
       "        vertical-align: middle;\n",
       "    }\n",
       "\n",
       "    .dataframe tbody tr th {\n",
       "        vertical-align: top;\n",
       "    }\n",
       "\n",
       "    .dataframe thead th {\n",
       "        text-align: right;\n",
       "    }\n",
       "</style>\n",
       "<table border=\"1\" class=\"dataframe\">\n",
       "  <thead>\n",
       "    <tr style=\"text-align: right;\">\n",
       "      <th></th>\n",
       "      <th>Horas_estudio</th>\n",
       "      <th>Notal_final</th>\n",
       "    </tr>\n",
       "  </thead>\n",
       "  <tbody>\n",
       "    <tr>\n",
       "      <th>0</th>\n",
       "      <td>14</td>\n",
       "      <td>4.5</td>\n",
       "    </tr>\n",
       "    <tr>\n",
       "      <th>1</th>\n",
       "      <td>2</td>\n",
       "      <td>1.9</td>\n",
       "    </tr>\n",
       "    <tr>\n",
       "      <th>2</th>\n",
       "      <td>8</td>\n",
       "      <td>3.8</td>\n",
       "    </tr>\n",
       "    <tr>\n",
       "      <th>3</th>\n",
       "      <td>19</td>\n",
       "      <td>5.0</td>\n",
       "    </tr>\n",
       "    <tr>\n",
       "      <th>4</th>\n",
       "      <td>7</td>\n",
       "      <td>3.0</td>\n",
       "    </tr>\n",
       "  </tbody>\n",
       "</table>\n",
       "</div>"
      ],
      "text/plain": [
       "   Horas_estudio  Notal_final\n",
       "0             14          4.5\n",
       "1              2          1.9\n",
       "2              8          3.8\n",
       "3             19          5.0\n",
       "4              7          3.0"
      ]
     },
     "execution_count": 8,
     "metadata": {},
     "output_type": "execute_result"
    }
   ],
   "source": [
    "df = pd.read_csv(\"C:\\\\Users\\\\LILI\\\\Downloads\\\\horas_estudio_vs_nota_final_bogota_.csv\")  \n",
    "df.columns = ['Horas_estudio', 'Notal_final']\n",
    "df.head()"
   ]
  },
  {
   "cell_type": "code",
   "execution_count": 9,
   "metadata": {},
   "outputs": [
    {
     "data": {
      "image/png": "[encoded data removed]",
      "text/plain": [
       "<Figure size 640x480 with 1 Axes>"
      ]
     },
     "metadata": {},
     "output_type": "display_data"
    }
   ],
   "source": [
    "ax = sns.scatterplot(x='Horas_estudio', y='Notal_final', data=df)\n",
    "ax.set(xlabel='horas estudio', ylabel='Nota', title='calificacion por hora de estudio');\n",
    "# Mostrar el gráfico\n",
    "plt.show()"
   ]
  },
  {
   "cell_type": "markdown",
   "metadata": {},
   "source": [
    "La trama muestra que tienen una relación lineal."
   ]
  },
  {
   "cell_type": "markdown",
   "metadata": {},
   "source": [
    "### 1.2 Gradient Descent\n",
    "\n",
    "Fit the linear regression parameters $\\theta$ to the dataset using gradient descent\n",
    "\n",
    "#### 1.2.1 Ecuaciones\n",
    "\n",
    "\n",
    " hipothesis of  regresión linear es :\n",
    "\n",
    "$$ h_\\theta(x) = \\theta^Tx = \\theta_0 + \\theta_1x_1$$\n",
    "\n",
    "El objetivo de la regresión lineal es minimizar la función de costo (Error Cuadrático Medio - RMSE):\n",
    "\n",
    "$$ J(\\theta) = \\frac{1}{2m} \\sum_{i=1}^m (h_\\theta(x^{(i)}) - y^{(i)})^2 $$\n",
    "\n",
    "Para minimizar el costo $J(\\theta)$  usaremos el algoritmo de descenso por gradiente por lotes (batch gradient descent). En cada iteración se realiza la siguiente actualización:\n",
    "\n",
    "$$ \\theta_j := \\theta_j - \\alpha \\frac{1}{m} \\sum_{i=1}^m (h_\\theta(x^{(i)}) - y^{(i)})x_j^{(i)} $$ \n",
    "\n",
    "(Simultaneamente  $\\theta_j$ for all $j$). con cada paso tus paramestros  $\\theta_j$ se acerca al valor optimo que minimiza  $J(\\theta)$.\n",
    "\n",
    "#### 1.2.2 Implementacion\n",
    "\n",
    "Necesitamos adiocionar otra dimencion, columnas de unos para  $\\theta_0$ termino del intercepto. esto permite tratar  $\\theta_0$ como otra variable "
   ]
  },
  {
   "cell_type": "code",
   "execution_count": 10,
   "metadata": {},
   "outputs": [],
   "source": [
    "# Número de muestras (filas) en el DataFrame\n",
    "m = df.shape[0]  # Construcción de la matriz de características X:\n",
    "\n",
    "# Se agrega una columna de unos (para el término independiente) y se concatena con la variable 'Horas_estudio'\n",
    "X = np.hstack((np.ones((m,1)), df.Horas_estudio.values.reshape(-1,1)))\n",
    "\n",
    "# Vector de salida/etiqueta y: se convierte la columna 'Notal_final' en un vector columna\n",
    "y = np.array(df.Notal_final.values).reshape(-1,1)\n",
    "\n",
    "# Inicialización del vector de parámetros theta con ceros (dimensión: número de características + 1)\n",
    "theta = np.zeros(shape=(X.shape[1],1))\n",
    "# Número de iteraciones para el algoritmo de descenso por gradiente\n",
    "iterations = 1500\n",
    "\n",
    "# Tasa de aprendizaje (learning rate)\n",
    "alpha = 0.01\n",
    "\n",
    "###$$$$$ ### POr favor imprimir cada cambio "
   ]
  },
  {
   "cell_type": "markdown",
   "metadata": {},
   "source": [
    "#### 1.2.3 Calculando la Funcion de Costo $J(\\theta)$"
   ]
  },
  {
   "cell_type": "code",
   "execution_count": 11,
   "metadata": {},
   "outputs": [],
   "source": [
    "def compute_cost_one_variable(X, y, theta):\n",
    "    m = y.shape[0]\n",
    "    h = X.dot(theta)\n",
    "    J = (1/(2*m)) * (np.sum((h - y)**2))\n",
    "    return J"
   ]
  },
  {
   "cell_type": "code",
   "execution_count": 12,
   "metadata": {},
   "outputs": [
    {
     "name": "stdout",
     "output_type": "stream",
     "text": [
      "With theta = [0 ; 0]\n",
      "Cost computed = 7.1616\n",
      "Expected cost value (approx) 32.07\n"
     ]
    }
   ],
   "source": [
    "J = compute_cost_one_variable(X, y, theta)\n",
    "print('With theta = [0 ; 0]\\nCost computed =', J)\n",
    "print('Expected cost value (approx) 32.07')\n",
    "#- La función devuelve el valor del costo ( J ), que indica cuán bien o mal está funcionando \n",
    "# nuestro modelo con los valores actuales de theta.\n",
    "#El costo ( J ) indica qué tan bien ajusta el modelo a los datos. Para saber si es alto o bajo, considera estos puntos:\n",
    "# - Costo muy alto (( J > 10 )) → El modelo está lejos de predecir correctamente.\n",
    "# Costo moderado (( 1 < J \\leq 10 )) → El modelo empieza a mejorar, pero aún tiene errores.\n",
    "# Costo bajo (( J \\approx 0 )) → La predicción es muy precisa.\n",
    "\n"
   ]
  },
  {
   "cell_type": "code",
   "execution_count": 13,
   "metadata": {},
   "outputs": [
    {
     "name": "stdout",
     "output_type": "stream",
     "text": [
      "With theta = [-1 ; 2]\n",
      "Cost computed = 189.01760000000002\n",
      "Expected cost value (approx) 54.24\n"
     ]
    }
   ],
   "source": [
    "J = compute_cost_one_variable(X, y, [[-1],[2]])\n",
    "print('With theta = [-1 ; 2]\\nCost computed =', J)\n",
    "print('Expected cost value (approx) 54.24')\n",
    "#- La función devuelve el valor del costo ( J ), que indica cuán bien o mal está funcionando \n",
    "# nuestro modelo con los valores actuales de theta.\n",
    "#El costo ( J ) indica qué tan bien ajusta el modelo a los datos. Para saber si es alto o bajo, considera estos puntos:\n",
    "# - Costo muy alto (( J > 10 )) → El modelo está lejos de predecir correctamente.\n",
    "# Costo moderado (( 1 < J \\leq 10 )) → El modelo empieza a mejorar, pero aún tiene errores.\n",
    "# Costo bajo (( J \\approx 0 )) → La predicción es muy precisa."
   ]
  },
  {
   "cell_type": "markdown",
   "metadata": {},
   "source": [
    "#### 1.2.4 GradientE Descendiente\n",
    "es un algoritmo de optimización genérico que mide el gradiente local de la función de costo con respecto al parámetro $\\theta$ \n",
    "y avanza en la dirección del gradiente descendente.\n",
    "\n",
    "Algoritmo:\n",
    "\n",
    "repeat until convergence:\n",
    "$$\\theta_j := \\theta_j - \\alpha \\frac{\\partial}{\\partial\\theta_j}J(\\theta_0, \\theta_1) = \\theta_j - \\alpha \\frac{1}{m} \\sum_{i=1}^m (h_\\theta(x^{(i)}) - y^{(i)})x_j^{(i)} $$ \n",
    "\n",
    "where $j=0,1$; $\\alpha$ is the learning rate (the steps to update J); $\\frac{\\partial}{\\partial\\theta_j}J(\\theta_0, \\theta_1)$ is a derivative.\n",
    "\n",
    "* Tasa de aprendizaje demasiado pequeña: descenso de gradiente lento\n",
    "* Tasa de aprendizaje demasiado grande: el descenso del gradiente puede sobrepasar el mínimo y puede no converger"
   ]
  },
  {
   "cell_type": "code",
   "execution_count": 14,
   "metadata": {},
   "outputs": [],
   "source": [
    "def gradient_descent(X, y, theta, alpha, num_iters):\n",
    "    m = y.shape[0]\n",
    "    J_history = np.zeros(shape=(num_iters, 1))\n",
    "\n",
    "#m: Obtiene la cantidad de datos en y.\n",
    "#J_history: Un array para guardar el costo ( J ) en cada iteración, lo que nos permite visualizar cómo disminuye con el tiempo.\n",
    "\n",
    "\n",
    "    for i in range(0, num_iters):\n",
    "        h = X.dot(theta) #Calcula las predicciones del modelo utilizando ( h = X \\cdot \\theta ).\n",
    "        diff_hy = h - y # diff_hy almacena la diferencia entre la predicción h y los valores reales y.\n",
    "\n",
    "\n",
    "\n",
    "        delta = (1/m) * (diff_hy.T.dot(X))\n",
    "        theta = theta - (alpha * delta.T)\n",
    "        J_history[i] = compute_cost_one_variable(X, y, theta)\n",
    "# delta calcula el gradiente (la dirección en que se debe ajustar theta).\n",
    "# theta = theta - (alpha * delta.T): Actualiza los parámetros theta en cada iteración, moviéndolos en la dirección del gradiente con un paso determinado por alpha.\n",
    "#j history Calcula y almacena el costo ( J ) en cada iteración, para ver cómo disminuye.\n",
    "\n",
    "    return theta, J_history\n",
    "# Devuelve theta (los valores óptimos para la regresión) y J_history (la evolución del costo).\n"
   ]
  },
  {
   "cell_type": "code",
   "execution_count": 15,
   "metadata": {},
   "outputs": [
    {
     "name": "stdout",
     "output_type": "stream",
     "text": [
      "Theta found by gradient descent:\n",
      " [[1.74620969]\n",
      " [0.1776025 ]]\n",
      "Expected theta values (approx)\n",
      " -3.6303\n",
      "  1.1664\n"
     ]
    }
   ],
   "source": [
    "#ejecuta el algoritmo de descenso por gradiente para encontrar los valores óptimos de theta en una regresión lineal.\n",
    "\n",
    "theta, _ = gradient_descent(X, y, theta, alpha, iterations)\n",
    "print('Theta found by gradient descent:\\n', theta)\n",
    "# Muestra los valores finales de theta, los cuales representan la mejor línea de ajuste para los datos.\n",
    "print('Expected theta values (approx)\\n -3.6303\\n  1.1664')\n",
    "# Presenta los valores aproximados esperados de theta, permitiendo verificar si la optimización fue exitosa.\n"
   ]
  },
  {
   "cell_type": "code",
   "execution_count": null,
   "metadata": {},
   "outputs": [],
   "source": [
    "# Resultado de Theta Found\n",
    "#- Intercepto (theta[0] = 1.7462) → Representa el valor predicho cuando Horas_estudio = 0. Es el punto de inicio de la recta de regresión.\n",
    "# Pendiente (theta[1] = 0.1776) → Indica cuánto cambia la Nota_final por cada hora adicional de estudio.\n",
    "#  En este caso, cada hora de estudio incrementa la nota en aproximadamente 0.1776.\n"
   ]
  },
  {
   "cell_type": "markdown",
   "metadata": {},
   "source": [
    "#### Plot the linear fit:"
   ]
  },
  {
   "cell_type": "code",
   "execution_count": 16,
   "metadata": {},
   "outputs": [
    {
     "data": {
      "image/png": "[encoded data removed]",
      "text/plain": [
       "<Figure size 640x480 with 1 Axes>"
      ]
     },
     "metadata": {},
     "output_type": "display_data"
    }
   ],
   "source": [
    "\n",
    "ax = sns.scatterplot(x='Horas_estudio', y='Notal_final', data=df)\n",
    "plt.plot(X[:,1], X.dot(theta), color='r')\n",
    "ax.set(xlabel='horas estudio', ylabel='Nota', title='calificacion por hora de estudio');"
   ]
  },
  {
   "cell_type": "code",
   "execution_count": 17,
   "metadata": {},
   "outputs": [
    {
     "name": "stdout",
     "output_type": "stream",
     "text": [
      "Para 8 horas de estudio, se predice una nota de 3.17\n"
     ]
    }
   ],
   "source": [
    "# Definir  cantidad de horas de estudio para hacer la predicción\n",
    "horas_estudio_nueva = 8  # se puede cambiar segun se quiera\n",
    "\n",
    "# Crear el vector de entrada\n",
    "y_pred = np.array([1, horas_estudio_nueva]).dot(theta)\n",
    "\n",
    "# Mostrar la predicción\n",
    "print(f'Para {horas_estudio_nueva} horas de estudio, se predice una nota de {y_pred[0]:.2f}')"
   ]
  },
  {
   "cell_type": "code",
   "execution_count": 19,
   "metadata": {},
   "outputs": [
    {
     "name": "stdout",
     "output_type": "stream",
     "text": [
      "Para 10 horas de estudio, se predice una nota de 3.52\n"
     ]
    }
   ],
   "source": [
    "# Definir  cantidad de horas de estudio para hacer la predicción\n",
    "horas_estudio_nueva = 10  # se puede cambiar segun se quiera\n",
    "\n",
    "# Crear el vector de entrada\n",
    "y_pred = np.array([1, horas_estudio_nueva]).dot(theta)\n",
    "\n",
    "# Mostrar la predicción\n",
    "print(f'Para {horas_estudio_nueva} horas de estudio, se predice una nota de {y_pred[0]:.2f}')"
   ]
  },
  {
   "cell_type": "markdown",
   "metadata": {},
   "source": [
    "### 1.3 Visualizing $J(\\theta)$\n",
    "\n",
    "La función de costo $J(\\theta)$ tiene forma de cuenco y posee un mínimo global. Este mínimo es el punto óptimo para $\\theta_0$ y $\\theta_1$, y cada paso del descenso por gradiente se acerca a ese punto.\n"
   ]
  },
  {
   "cell_type": "code",
   "execution_count": 20,
   "metadata": {},
   "outputs": [],
   "source": [
    "theta0_vals = np.linspace(-10, 10, 100) #  Representa posibles valores para theta0, el término independiente en una regresión lineal.\n",
    "theta1_vals = np.linspace(-1, 4, 100) # - Representa posibles valores para theta1, el coeficiente de la variable predictora"
   ]
  },
  {
   "cell_type": "code",
   "execution_count": 21,
   "metadata": {},
   "outputs": [],
   "source": [
    "J_vals = np.zeros(shape=(len(theta0_vals), len(theta1_vals)))\n",
    "# len(theta0_vals): Número de valores de theta0 (100 en este caso).\n",
    "# len(theta1_vals): Número de valores de theta1 (100 en este caso).\n",
    "# Esto significa que la matriz J_vals tendrá 100 filas y 100 columnas\n"
   ]
  },
  {
   "cell_type": "code",
   "execution_count": 22,
   "metadata": {},
   "outputs": [],
   "source": [
    "for i in range(0, len(theta0_vals)):  # Recorre todos los valores de theta0\n",
    "    for j in range(0, len(theta1_vals)):  # Recorre todos los valores de theta1\n",
    "        J_vals[i,j] = compute_cost_one_variable(X, y, [[theta0_vals[i]], [theta1_vals[j]]]) # Calcula el costo para cada combinación de theta0 y theta1\n"
   ]
  },
  {
   "cell_type": "code",
   "execution_count": 23,
   "metadata": {},
   "outputs": [
    {
     "data": {
      "image/png": "[encoded data removed]",
      "text/plain": [
       "<Figure size 640x480 with 1 Axes>"
      ]
     },
     "metadata": {},
     "output_type": "display_data"
    }
   ],
   "source": [
    "#grafica de contorno que muestra cómo varía la función de costo ( J(\\theta) ) en función de los valores de ( \\theta_0 ) y ( \\theta_1 )\n",
    "\n",
    "ax = plt.contour(theta0_vals, theta1_vals, np.transpose(J_vals), levels=np.logspace(-2,3,20))\n",
    "plt.plot(theta[0,0], theta[1,0], marker='x', color='r');\n",
    "plt.xlabel(r'$\\theta_0$');\n",
    "plt.ylabel(r'$\\theta_1$');\n",
    "plt.title('Contour, showing minimum');\n",
    "plt.show()"
   ]
  },
  {
   "cell_type": "markdown",
   "metadata": {},
   "source": [
    "### 1.4 Usando sklearn"
   ]
  },
  {
   "cell_type": "code",
   "execution_count": 27,
   "metadata": {},
   "outputs": [
    {
     "ename": "ModuleNotFoundError",
     "evalue": "No module named 'sklearn'",
     "output_type": "error",
     "traceback": [
      "\u001b[31m---------------------------------------------------------------------------\u001b[39m",
      "\u001b[31mModuleNotFoundError\u001b[39m                       Traceback (most recent call last)",
      "\u001b[36mCell\u001b[39m\u001b[36m \u001b[39m\u001b[32mIn[27]\u001b[39m\u001b[32m, line 4\u001b[39m\n\u001b[32m      2\u001b[39m \u001b[38;5;28;01mimport\u001b[39;00m\u001b[38;5;250m \u001b[39m\u001b[34;01mnumpy\u001b[39;00m\u001b[38;5;250m \u001b[39m\u001b[38;5;28;01mas\u001b[39;00m\u001b[38;5;250m \u001b[39m\u001b[34;01mnp\u001b[39;00m\n\u001b[32m      3\u001b[39m \u001b[38;5;28;01mimport\u001b[39;00m\u001b[38;5;250m \u001b[39m\u001b[34;01mmatplotlib\u001b[39;00m\u001b[34;01m.\u001b[39;00m\u001b[34;01mpyplot\u001b[39;00m\u001b[38;5;250m \u001b[39m\u001b[38;5;28;01mas\u001b[39;00m\u001b[38;5;250m \u001b[39m\u001b[34;01mplt\u001b[39;00m\n\u001b[32m----> \u001b[39m\u001b[32m4\u001b[39m \u001b[38;5;28;01mfrom\u001b[39;00m\u001b[38;5;250m \u001b[39m\u001b[34;01msklearn\u001b[39;00m\u001b[34;01m.\u001b[39;00m\u001b[34;01mlinear_model\u001b[39;00m\u001b[38;5;250m \u001b[39m\u001b[38;5;28;01mimport\u001b[39;00m LinearRegression\n\u001b[32m      6\u001b[39m \u001b[38;5;66;03m# Cargar los datos\u001b[39;00m\n\u001b[32m      7\u001b[39m df = pd.read_csv(\u001b[33m\"\u001b[39m\u001b[33mC:\u001b[39m\u001b[38;5;130;01m\\\\\u001b[39;00m\u001b[33mUsers\u001b[39m\u001b[38;5;130;01m\\\\\u001b[39;00m\u001b[33mLILI\u001b[39m\u001b[38;5;130;01m\\\\\u001b[39;00m\u001b[33mDownloads\u001b[39m\u001b[38;5;130;01m\\\\\u001b[39;00m\u001b[33mhoras_estudio_vs_nota_final_bogota_.csv\u001b[39m\u001b[33m\"\u001b[39m)  \n",
      "\u001b[31mModuleNotFoundError\u001b[39m: No module named 'sklearn'"
     ]
    }
   ],
   "source": [
    "import pandas as pd\n",
    "import numpy as np\n",
    "import matplotlib.pyplot as plt\n",
    "from sklearn.linear_model import LinearRegression\n",
    "\n",
    "# Cargar los datos\n",
    "df = pd.read_csv(\"C:\\\\Users\\\\LILI\\\\Downloads\\\\horas_estudio_vs_nota_final_bogota_.csv\")  \n",
    "df.columns = ['Horas_estudio', 'Notal_final']\n",
    "\n",
    "# Preparar X e y\n",
    "X = df[['Horas_estudio']]  # variable independiente (característica)\n",
    "y = df['Notal_final']        # variable dependiente (objetivo)\n",
    "\n",
    "# Crear y ajustar el modelo de regresión lineal\n",
    "model = LinearRegression()\n",
    "model.fit(X, y)\n",
    "\n",
    "# Mostrar parámetros del modelo\n",
    "print(f\"Intercepto (theta_0): {model.intercept_}\")\n",
    "print(f\"Coeficiente (theta_1): {model.coef_[0]}\")\n",
    "\n",
    "# Predicción de valores ajustados\n",
    "y_pred = model.predict(X)\n",
    "\n",
    "# Graficar los datos y la línea de regresión\n",
    "plt.scatter(X, y, color='blue', label='Datos reales')\n",
    "plt.plot(X, y_pred, color='red', label='Línea de regresión')\n",
    "plt.xlabel('Calificacion')\n",
    "plt.ylabel('horas estudio')\n",
    "plt.title('Regresión lineal con scikit-learn')\n",
    "plt.legend()\n",
    "plt.grid(True)\n",
    "plt.show()"
   ]
  },
  {
   "cell_type": "code",
   "execution_count": 30,
   "metadata": {},
   "outputs": [
    {
     "ename": "ImportError",
     "evalue": "cannot import name 'LinearRegressi' from 'sklearn.linear_model' (c:\\Users\\LILI\\AppData\\Local\\Programs\\Python\\Python313\\Lib\\site-packages\\sklearn\\linear_model\\__init__.py)",
     "output_type": "error",
     "traceback": [
      "\u001b[31m---------------------------------------------------------------------------\u001b[39m",
      "\u001b[31mImportError\u001b[39m                               Traceback (most recent call last)",
      "\u001b[36mCell\u001b[39m\u001b[36m \u001b[39m\u001b[32mIn[30]\u001b[39m\u001b[32m, line 4\u001b[39m\n\u001b[32m      2\u001b[39m \u001b[38;5;28;01mimport\u001b[39;00m\u001b[38;5;250m \u001b[39m\u001b[34;01mnumpy\u001b[39;00m\u001b[38;5;250m \u001b[39m\u001b[38;5;28;01mas\u001b[39;00m\u001b[38;5;250m \u001b[39m\u001b[34;01mnp\u001b[39;00m\n\u001b[32m      3\u001b[39m \u001b[38;5;28;01mimport\u001b[39;00m\u001b[38;5;250m \u001b[39m\u001b[34;01mmatplotlib\u001b[39;00m\u001b[34;01m.\u001b[39;00m\u001b[34;01mpyplot\u001b[39;00m\u001b[38;5;250m \u001b[39m\u001b[38;5;28;01mas\u001b[39;00m\u001b[38;5;250m \u001b[39m\u001b[34;01mplt\u001b[39;00m\n\u001b[32m----> \u001b[39m\u001b[32m4\u001b[39m \u001b[38;5;28;01mfrom\u001b[39;00m\u001b[38;5;250m \u001b[39m\u001b[34;01msklearn\u001b[39;00m\u001b[34;01m.\u001b[39;00m\u001b[34;01mlinear_model\u001b[39;00m\u001b[38;5;250m \u001b[39m\u001b[38;5;28;01mimport\u001b[39;00m LinearRegressi\n",
      "\u001b[31mImportError\u001b[39m: cannot import name 'LinearRegressi' from 'sklearn.linear_model' (c:\\Users\\LILI\\AppData\\Local\\Programs\\Python\\Python313\\Lib\\site-packages\\sklearn\\linear_model\\__init__.py)"
     ]
    }
   ],
   "source": [
    "import pandas as pd\n",
    "import numpy as np\n",
    "import matplotlib.pyplot as plt\n",
    "from sklearn.linear_model import LinearRegressi"
   ]
  },
  {
   "cell_type": "markdown",
   "metadata": {},
   "source": [
    "### 1.4 Usando statsmodels"
   ]
  },
  {
   "cell_type": "code",
   "execution_count": null,
   "metadata": {},
   "outputs": [],
   "source": [
    "import pandas as pd\n",
    "import statsmodels.api as sm\n",
    "import matplotlib.pyplot as plt\n",
    "\n",
    "# Cargar los datos\n",
    "df = pd.read_csv(\"C:\\\\Users\\\\WALTER\\\\Downloads\\\\horas_estudio_vs_nota_final_bogota_.csv\")  \n",
    "df.columns = ['Horas_estudio', 'Notal_final']\n",
    "\n",
    "# Variable independiente (con constante añadida) y dependiente\n",
    "X = sm.add_constant(df['Horas_estudio'])  # Agrega una columna de 1s para el intercepto (theta_0)\n",
    "y = df['Notal_final']\n",
    "\n",
    "# Ajustar el modelo de regresión lineal\n",
    "model = sm.OLS(y, X).fit()\n",
    "\n",
    "# Mostrar resumen del modelo\n",
    "print(model.summary())\n",
    "\n",
    "# Predicciones\n",
    "df['y_pred'] = model.predict(X)\n",
    "\n",
    "# Graficar los datos y la línea de regresión\n",
    "plt.scatter(df['Horas_estudio'], df['Notal_final'], color='blue', label='Datos reales')\n",
    "plt.plot(df['Horas_estudio'], df['y_pred'], color='red', label='Línea de regresión (statsmodels)')\n",
    "plt.xlabel('Horas estudio')\n",
    "plt.ylabel('Calificacion')\n",
    "plt.title('Regresión lineal con statsmodels')\n",
    "plt.legend()\n",
    "plt.grid(True)\n",
    "plt.show()"
   ]
  },
  {
   "cell_type": "code",
   "execution_count": null,
   "metadata": {},
   "outputs": [],
   "source": [
    "## Validacion de supuertos de Modelos "
   ]
  },
  {
   "cell_type": "code",
   "execution_count": null,
   "metadata": {},
   "outputs": [],
   "source": [
    "from scipy.stats import shapiro\n",
    "from statsmodels.stats.diagnostic import het_breuschpagan\n",
    "# Obtener residuos\n",
    "residuals = model.resid\n",
    "\n",
    "# --- 1. Normalidad de los residuos ---\n",
    "shapiro_test = shapiro(residuals)\n",
    "print(\"\\nShapiro-Wilk test (normalidad):\")\n",
    "print(f\"  Estadístico: {shapiro_test.statistic:.4f}, p-valor: {shapiro_test.pvalue:.4f}\")\n",
    "if shapiro_test.pvalue > 0.05:\n",
    "    print(\"  ✔️ Los residuos parecen normales (no se rechaza H0).\")\n",
    "else:\n",
    "    print(\"  ❌ Los residuos no parecen normales (se rechaza H0).\")\n",
    "\n",
    "# --- 2. Homocedasticidad (varianza constante) ---\n",
    "bp_test = het_breuschpagan(residuals, X)\n",
    "bp_labels = ['LM Statistic', 'LM p-value', 'F-statistic', 'F p-value']\n",
    "print(\"\\nBreusch-Pagan test (homocedasticidad):\")\n",
    "for label, value in zip(bp_labels, bp_test):\n",
    "    print(f\"  {label}: {value:.4f}\")\n",
    "if bp_test[1] > 0.05:\n",
    "    print(\"  ✔️ No hay evidencia fuerte de heterocedasticidad.\")\n",
    "else:\n",
    "    print(\"  ❌ Posible heterocedasticidad (varianza no constante).\")\n",
    "\n",
    "# --- 3. Autocorrelación ---\n",
    "print(f\"\\nDurbin-Watson (ya en el resumen): {model.summary().tables[1].data[2][1]}\")\n",
    "\n",
    "# --- (Opcional) Graficar residuos ---\n",
    "plt.figure(figsize=(8, 4))\n",
    "plt.scatter(df['Horas_estudio'], residuals, alpha=0.7)\n",
    "plt.axhline(0, color='red', linestyle='--')\n",
    "plt.title(\"Residuos vs. Población\")\n",
    "plt.xlabel(\"Horas estudio\")\n",
    "plt.ylabel(\"Residuos\")\n",
    "plt.grid(True)\n",
    "plt.show()"
   ]
  },
  {
   "cell_type": "markdown",
   "metadata": {},
   "source": [
    "##  Crear el Q-Q plot"
   ]
  },
  {
   "cell_type": "code",
   "execution_count": null,
   "metadata": {},
   "outputs": [],
   "source": [
    "# Crear el Q-Q plot\n",
    "sm.qqplot(residuals, line='45', fit=True)\n",
    "\n",
    "plt.title(\"Q-Q Plot de los residuos\")\n",
    "plt.grid(True)\n",
    "plt.show()"
   ]
  },
  {
   "cell_type": "markdown",
   "metadata": {},
   "source": [
    "## 2. Linear Regression with Multiple Variables\n",
    "\n",
    "> En esta parte, implementará una regresión lineal con múltiples variables para predecir los precios de las viviendas. Suponga que está vendiendo su casa y desea saber cuál sería un buen precio de mercado. Una forma de hacerlo es recopilar información sobre las casas vendidas recientemente y crear un modelo de precios de vivienda. El archivo ex1data2.txt contiene un conjunto de entrenamiento de precios de vivienda en Portland, Oregón. La primera columna representa el tamaño de la casa (en pies cuadrados), la segunda el número de habitaciones y la tercera el precio de la vivienda.\n",
    "\n",
    "### 2.1 Feature Normalization"
   ]
  },
  {
   "cell_type": "code",
   "execution_count": null,
   "metadata": {},
   "outputs": [],
   "source": [
    "url = 'https://raw.githubusercontent.com/damasoer/MACHINE-LEARNING-I/main/data/ex1data2.txt'\n",
    "df2 = pd.read_csv(url, sep=\",\", header=None)\n",
    "df2.columns = ['house_size', 'bedrooms', 'house_price']\n",
    "df2.describe().T"
   ]
  },
  {
   "cell_type": "markdown",
   "metadata": {},
   "source": [
    "> Al observar los valores, note que los tamaños de las casas son aproximadamente 1000 veces mayores que el número de habitaciones. Cuando las características difieren por órdenes de magnitud, se realiza escalado d(escalado de características) previamente puede hacer que el descenso por gradiente converja mucho más rápido ."
   ]
  },
  {
   "cell_type": "markdown",
   "metadata": {},
   "source": [
    "Podemos acelerar el descenso por gradiente si hacemos que cada uno de nuestros valores de entrada esté, idealmente, en un rango similar  $-1 \\leq x_i \\leq1$ or $-0.5 \\leq x_i \\leq0.5$.\n",
    "\n",
    "* Escala de características: implica dividir los valores de entrada por el rango (es decir, el valor máximo menos el valor mínimo) de la variable de entrada.\n",
    "* Normalización de media: implica restar el valor promedio de una variable de entrada de los valores de esa variable de entrada\n",
    "\n",
    "$x_i := \\frac{x_i - \\mu_i}{s_i}$, wher $\\mu_i$ is the average of all the values for features (i) and $s_i$ is the range of values (max-min), the standard deviation."
   ]
  },
  {
   "cell_type": "code",
   "execution_count": null,
   "metadata": {},
   "outputs": [],
   "source": [
    "def feature_normalize(X, mean=np.zeros(1), std=np.zeros(1)):\n",
    "    X = np.array(X)\n",
    "    if len(mean.shape) == 1 or len(std.shape) == 1:\n",
    "        mean = np.mean(X, axis=0)\n",
    "        std = np.std(X, axis=0, ddof=1)\n",
    "\n",
    "    X = (X - mean)/std\n",
    "    return X, mean, std"
   ]
  },
  {
   "cell_type": "code",
   "execution_count": null,
   "metadata": {},
   "outputs": [],
   "source": [
    "X_norm, mu, sigma = feature_normalize(df2[['house_size', 'bedrooms']])"
   ]
  },
  {
   "cell_type": "code",
   "execution_count": null,
   "metadata": {},
   "outputs": [],
   "source": [
    "df2['house_size_normalized'] = X_norm[:,0]\n",
    "df2['bedrooms_normalized'] = X_norm[:,1]\n",
    "df2[['house_size_normalized', 'bedrooms_normalized']].describe().T"
   ]
  },
  {
   "cell_type": "markdown",
   "metadata": {},
   "source": [
    "### 2.2 Gradient Descent\n",
    "\n",
    "La única diferencia con el problema de regresión univariada es que ahora hay una característica más en la matriz X. La función de hipótesis y la regla de actualización del descenso por gradiente por lotes permanecen sin cambios.\n",
    "\n",
    "Nota: En el caso multivariable, la función de costo también puede escribirse en la siguiente forma vectorizada:\n",
    "\n",
    "$$J(\\theta) = \\frac{1}{2m}(X\\theta - y)^T(X\\theta - y)$$"
   ]
  },
  {
   "cell_type": "code",
   "execution_count": null,
   "metadata": {},
   "outputs": [],
   "source": [
    "def compute_cost(X, y, theta):\n",
    "    m = y.shape[0]\n",
    "    h = X.dot(theta)\n",
    "    J = (1/(2*m)) * ((h-y).T.dot(h-y))\n",
    "    return J"
   ]
  },
  {
   "cell_type": "code",
   "execution_count": null,
   "metadata": {},
   "outputs": [],
   "source": [
    "def gradient_descent(X, y, theta, alpha, num_iters):\n",
    "    m = y.shape[0]\n",
    "    J_history = np.zeros(shape=(num_iters, 1))\n",
    "\n",
    "    for i in range(0, num_iters):\n",
    "        h = X.dot(theta)\n",
    "        diff_hy = h - y\n",
    "\n",
    "        delta = (1/m) * (diff_hy.T.dot(X))\n",
    "        theta = theta - (alpha * delta.T)\n",
    "        J_history[i] = compute_cost(X, y, theta)\n",
    "\n",
    "    return theta, J_history"
   ]
  },
  {
   "cell_type": "markdown",
   "metadata": {},
   "source": [
    "#### 2.2.1 Seleccionando Tasa de aprendizaje \n",
    "\n",
    "Consejos:\n",
    "* Haz una gráfica con el número de iteraciones en el eje x. Ahora grafica la función de costo, $J(\\theta)$, sobre el número de iteraciones del descenso por gradiente. Si $J(\\theta)$ alguna vez aumenta, entonces probablemente necesites disminuir $\\alpha$.\n",
    "* Declara convergencia si $J(\\theta)$ disminuye menos de E en una iteración, donde E es un valor pequeño como $10^{−3}$.\n"
   ]
  },
  {
   "cell_type": "code",
   "execution_count": null,
   "metadata": {},
   "outputs": [],
   "source": [
    "m = df2.shape[0]\n",
    "X2 = np.hstack((np.ones((m,1)),X_norm))\n",
    "y2 = np.array(df2.house_price.values).reshape(-1,1)\n",
    "theta2 = np.zeros(shape=(X2.shape[1],1))"
   ]
  },
  {
   "cell_type": "code",
   "execution_count": null,
   "metadata": {},
   "outputs": [],
   "source": [
    "alpha = [0.3, 0.1, 0.03, 0.01]\n",
    "colors = ['b','r','g','c']\n",
    "num_iters = 50"
   ]
  },
  {
   "cell_type": "code",
   "execution_count": null,
   "metadata": {},
   "outputs": [],
   "source": [
    "for i in range(0, len(alpha)):\n",
    "    theta = np.zeros(shape=(X.shape[1],1))\n",
    "    theta, J_history = gradient_descent(X2, y2, theta2, alpha[i], num_iters)\n",
    "    plt.plot(range(len(J_history)), J_history, colors[i], label='Alpha {}'.format(alpha[i]))\n",
    "plt.xlabel('Number of iterations');\n",
    "plt.ylabel('Cost J');\n",
    "plt.title('Selecting learning rates');\n",
    "plt.legend()\n",
    "plt.show()"
   ]
  },
  {
   "cell_type": "code",
   "execution_count": null,
   "metadata": {},
   "outputs": [],
   "source": [
    "iterations = 250\n",
    "alpha = 0.1\n",
    "theta2, J_history = gradient_descent(X2, y2, theta2, alpha, iterations)\n",
    "\n",
    "print('Theta found by gradient descent:')\n",
    "print(theta)"
   ]
  },
  {
   "cell_type": "markdown",
   "metadata": {},
   "source": [
    "##### Estima el precio de una casa de 1650 pies cuadrados con 3 habitaciones."
   ]
  },
  {
   "cell_type": "code",
   "execution_count": null,
   "metadata": {},
   "outputs": [],
   "source": [
    "sqft = (1650 - mu[0])/sigma[0]\n",
    "bedrooms = (3 - mu[1])/sigma[1]\n",
    "y_pred = theta2[0] + theta2[1]*sqft + theta2[2]*bedrooms\n",
    "f'precio de una casa de 1650 pies cuadrados con 3 habitaciones: {y_pred[0]}$'"
   ]
  },
  {
   "cell_type": "markdown",
   "metadata": {},
   "source": [
    "### 2.3 Normal Equations\n",
    "\n",
    "A closed-form solution to find $\\theta$ without iteration.\n",
    "\n",
    "$$\\theta = (X^TX)^{-1}X^Ty$$"
   ]
  },
  {
   "cell_type": "code",
   "execution_count": null,
   "metadata": {},
   "outputs": [],
   "source": [
    "def normal_eqn(X, y):\n",
    "    inv = np.linalg.pinv(X.T.dot(X))\n",
    "    theta = inv.dot(X.T).dot(y)\n",
    "    return theta"
   ]
  },
  {
   "cell_type": "code",
   "execution_count": null,
   "metadata": {},
   "outputs": [],
   "source": [
    "Xe = np.hstack((np.ones((m,1)),df2[['house_size', 'bedrooms']].values))\n",
    "theta_e = normal_eqn(Xe, y2)\n",
    "theta_e"
   ]
  },
  {
   "cell_type": "code",
   "execution_count": null,
   "metadata": {},
   "outputs": [],
   "source": [
    "y_pred = theta_e[0] + theta_e[1]*1650 + theta_e[2]*3\n",
    "f'Price of a house with 1650 square feet and 3 bedrooms: {y_pred[0]}$'"
   ]
  },
  {
   "cell_type": "markdown",
   "metadata": {},
   "source": [
    "### 2.4 Equivalent Code using Scikit-Learn"
   ]
  },
  {
   "cell_type": "code",
   "execution_count": null,
   "metadata": {},
   "outputs": [],
   "source": [
    "\n",
    "import numpy as np\n",
    "import pandas as pd\n",
    "from sklearn.linear_model import LinearRegression\n",
    "from sklearn.metrics import mean_absolute_error, mean_squared_error, r2_score\n",
    "from sklearn.model_selection import train_test_split\n",
    "from sklearn.preprocessing import StandardScaler\n",
    "import matplotlib.pyplot as plt\n",
    "\n",
    "\n",
    "# 2. División de datos\n",
    "X_train, X_test, y_train, y_test = train_test_split(X, y, test_size=0.2, random_state=42)\n",
    "\n",
    "# 3. Normalización (si no tienes X_norm)\n",
    "scaler = StandardScaler()\n",
    "X_train_norm = scaler.fit_transform(X_train)\n",
    "X_test_norm = scaler.transform(X_test)\n",
    "\n",
    "# 4. Entrenar el modelo\n",
    "lin_reg = LinearRegression()\n",
    "lin_reg.fit(X_train, y_train)\n",
    "\n",
    "# 5. Predicciones\n",
    "y_pred = lin_reg.predict(X_test)\n",
    "\n",
    "# 6. Evaluación del modelo\n",
    "mae = mean_absolute_error(y_test, y_pred)\n",
    "mse = mean_squared_error(y_test, y_pred)\n",
    "rmse = np.sqrt(mse)\n",
    "r2 = r2_score(y_test, y_pred)\n",
    "\n",
    "print(f\"MAE  (Error Absoluto Medio): {mae:.2f}\")\n",
    "print(f\"MSE  (Error Cuadrático Medio): {mse:.2f}\")\n",
    "print(f\"RMSE (Raíz del Error Cuadrático Medio): {rmse:.2f}\")\n",
    "print(f\"R²   (Coeficiente de determinación): {r2:.2f}\")\n",
    "\n",
    "# 7. Visualización\n",
    "# 7. Visualización de predicciones vs valores reales\n",
    "plt.figure(figsize=(8, 6))\n",
    "plt.scatter(y_test, y_pred, edgecolors=(0, 0, 0))\n",
    "plt.plot([y_test.min(), y_test.max()], [y_test.min(), y_test.max()], 'r--', lw=2)\n",
    "plt.xlabel('Valores Reales')\n",
    "plt.ylabel('Predicciones')\n",
    "plt.title('Regresión Lineal: Predicciones vs Reales')\n",
    "plt.grid(True)\n",
    "plt.show()"
   ]
  },
  {
   "cell_type": "code",
   "execution_count": null,
   "metadata": {},
   "outputs": [],
   "source": []
  },
  {
   "cell_type": "code",
   "execution_count": null,
   "metadata": {},
   "outputs": [],
   "source": [
    "### 2.5 Equivalent Code using statsmodels\n"
   ]
  },
  {
   "cell_type": "code",
   "execution_count": null,
   "metadata": {},
   "outputs": [],
   "source": [
    "import numpy as np\n",
    "import pandas as pd\n",
    "import statsmodels.api as sm\n",
    "import matplotlib.pyplot as plt\n",
    "\n",
    "# Supongamos que ya tienes X y y definidos como DataFrames o arrays\n",
    "# X: variables independientes, y: variable dependiente\n",
    "\n",
    "# 1. División de datos (manual o con numpy)\n",
    "from sklearn.model_selection import train_test_split  # solo esta parte de sklearn para dividir\n",
    "X_train, X_test, y_train, y_test = train_test_split(X, y, test_size=0.2, random_state=42)\n",
    "\n",
    "# 2. Normalización manual (opcional, si hay variables en diferente escala)\n",
    "X_train_mean = X_train.mean()\n",
    "X_train_std = X_train.std()\n",
    "X_train_norm = (X_train - X_train_mean) / X_train_std\n",
    "X_test_norm = (X_test - X_train_mean) / X_train_std  # usar media y std del train\n",
    "\n",
    "# 3. Agregar constante (intercepto)\n",
    "X_train_sm = sm.add_constant(X_train_norm)\n",
    "X_test_sm = sm.add_constant(X_test_norm)\n",
    "\n",
    "# 4. Entrenar modelo con OLS (Ordinary Least Squares)\n",
    "model = sm.OLS(y_train, X_train_sm)\n",
    "results = model.fit()\n",
    "\n",
    "# 5. Imprimir resumen estadístico\n",
    "print(results.summary())\n",
    "\n",
    "# 6. Predicciones\n",
    "y_pred = results.predict(X_test_sm)\n",
    "\n",
    "# 7. Métricas de evaluación\n",
    "mae = np.mean(np.abs(y_test - y_pred))\n",
    "mse = np.mean((y_test - y_pred) ** 2)\n",
    "rmse = np.sqrt(mse)\n",
    "ss_total = np.sum((y_test - np.mean(y_test)) ** 2)\n",
    "ss_res = np.sum((y_test - y_pred) ** 2)\n",
    "r2 = 1 - (ss_res / ss_total)\n",
    "\n",
    "print(\"\\nEvaluación del modelo:\")\n",
    "print(f\"MAE  (Error Absoluto Medio): {mae:.2f}\")\n",
    "print(f\"MSE  (Error Cuadrático Medio): {mse:.2f}\")\n",
    "print(f\"RMSE (Raíz del Error Cuadrático Medio): {rmse:.2f}\")\n",
    "print(f\"R²   (Coeficiente de determinación): {r2:.2f}\")\n",
    "\n",
    "# 8. Visualización: valores reales vs predichos\n",
    "plt.figure(figsize=(8, 6))\n",
    "plt.scatter(y_test, y_pred, edgecolors=(0, 0, 0))\n",
    "plt.plot([y_test.min(), y_test.max()], [y_test.min(), y_test.max()], 'r--', lw=2)\n",
    "plt.xlabel('Valores Reales')\n",
    "plt.ylabel('Predicciones')\n",
    "plt.title('Predicciones vs Reales (Statsmodels)')\n",
    "plt.grid(True)\n",
    "plt.show()\n"
   ]
  },
  {
   "cell_type": "markdown",
   "metadata": {},
   "source": [
    "#### TAREA: realizar estos mismos ejecicion para bases de datos propias o de la web, existen muchos repositorios para tal fin"
   ]
  }
 ],
 "metadata": {
  "kernelspec": {
   "display_name": "Python 3",
   "language": "python",
   "name": "python3"
  },
  "language_info": {
   "codemirror_mode": {
    "name": "ipython",
    "version": 3
   },
   "file_extension": ".py",
   "mimetype": "text/x-python",
   "name": "python",
   "nbconvert_exporter": "python",
   "pygments_lexer": "ipython3",
   "version": "3.13.2"
  }
 },
 "nbformat": 4,
 "nbformat_minor": 4
}
