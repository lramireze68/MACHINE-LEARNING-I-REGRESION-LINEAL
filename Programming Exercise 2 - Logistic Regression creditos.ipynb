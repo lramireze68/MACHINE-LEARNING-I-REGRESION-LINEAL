{
 "cells": [
  {
   "cell_type": "markdown",
   "metadata": {},
   "source": [
    "# Programming Exercise 2: Regresion Logistica \n",
    "\n",
    "> En este ejercicio, implementarás regresión logística y la aplicarás a dos conjuntos de datos diferentes."
   ]
  },
  {
   "cell_type": "markdown",
   "metadata": {},
   "source": [
    "## 1. Logistic Regression\n",
    "\n",
    "> En esta parte del ejercicio, construirás un modelo de regresión logística para predecir los creditos que se pueden otorgar de acuerdo a los ingresos de cada cliente . Para determinar la probabilidad de aprobacion de un credito en función de sus ingreos.\n",
    "Cuentas con datos  del ingreso de los clientes  que pueden utilizar como conjunto de entrenamiento para la regresión logística.  \n",
    "Tu tarea es construir un modelo de clasificación que estime la probabilidad de aprobacion o negacion de un credito obteniendo a partir de sus ingresos mensuales.. \n",
    "\n",
    "### 1.1 Visualizing the Data"
   ]
  },
  {
   "cell_type": "code",
   "execution_count": 1,
   "metadata": {},
   "outputs": [],
   "source": [
    "import numpy as np\n",
    "import pandas as pd\n",
    "import seaborn as sns\n",
    "import matplotlib.pyplot as plt\n",
    "%matplotlib inline"
   ]
  },
  {
   "cell_type": "code",
   "execution_count": 2,
   "metadata": {},
   "outputs": [
    {
     "data": {
      "text/html": [
       "<div>\n",
       "<style scoped>\n",
       "    .dataframe tbody tr th:only-of-type {\n",
       "        vertical-align: middle;\n",
       "    }\n",
       "\n",
       "    .dataframe tbody tr th {\n",
       "        vertical-align: top;\n",
       "    }\n",
       "\n",
       "    .dataframe thead th {\n",
       "        text-align: right;\n",
       "    }\n",
       "</style>\n",
       "<table border=\"1\" class=\"dataframe\">\n",
       "  <thead>\n",
       "    <tr style=\"text-align: right;\">\n",
       "      <th></th>\n",
       "      <th>Ingresos_Mensuales</th>\n",
       "      <th>Monto_deuda_actual</th>\n",
       "      <th>label</th>\n",
       "    </tr>\n",
       "  </thead>\n",
       "  <tbody>\n",
       "    <tr>\n",
       "      <th>0</th>\n",
       "      <td>4.8</td>\n",
       "      <td>1.2</td>\n",
       "      <td>1</td>\n",
       "    </tr>\n",
       "    <tr>\n",
       "      <th>1</th>\n",
       "      <td>1.6</td>\n",
       "      <td>2.0</td>\n",
       "      <td>0</td>\n",
       "    </tr>\n",
       "    <tr>\n",
       "      <th>2</th>\n",
       "      <td>14.0</td>\n",
       "      <td>4.8</td>\n",
       "      <td>1</td>\n",
       "    </tr>\n",
       "    <tr>\n",
       "      <th>3</th>\n",
       "      <td>3.2</td>\n",
       "      <td>8.0</td>\n",
       "      <td>0</td>\n",
       "    </tr>\n",
       "    <tr>\n",
       "      <th>4</th>\n",
       "      <td>10.0</td>\n",
       "      <td>2.4</td>\n",
       "      <td>1</td>\n",
       "    </tr>\n",
       "  </tbody>\n",
       "</table>\n",
       "</div>"
      ],
      "text/plain": [
       "   Ingresos_Mensuales  Monto_deuda_actual  label\n",
       "0                 4.8                 1.2      1\n",
       "1                 1.6                 2.0      0\n",
       "2                14.0                 4.8      1\n",
       "3                 3.2                 8.0      0\n",
       "4                10.0                 2.4      1"
      ]
     },
     "execution_count": 2,
     "metadata": {},
     "output_type": "execute_result"
    }
   ],
   "source": [
    "\n",
    "\n",
    "df = pd.read_csv(\"C:\\\\Users\\\\WALTER\\\\Downloads\\\\datos_credito_bogota_millones.csv\")  \n",
    "df.columns = ['Ingresos_Mensuales', 'Monto_deuda_actual','label']\n",
    "df.head()"
   ]
  },
  {
   "cell_type": "code",
   "execution_count": 3,
   "metadata": {},
   "outputs": [
    {
     "data": {
      "text/html": [
       "<div>\n",
       "<style scoped>\n",
       "    .dataframe tbody tr th:only-of-type {\n",
       "        vertical-align: middle;\n",
       "    }\n",
       "\n",
       "    .dataframe tbody tr th {\n",
       "        vertical-align: top;\n",
       "    }\n",
       "\n",
       "    .dataframe thead th {\n",
       "        text-align: right;\n",
       "    }\n",
       "</style>\n",
       "<table border=\"1\" class=\"dataframe\">\n",
       "  <thead>\n",
       "    <tr style=\"text-align: right;\">\n",
       "      <th></th>\n",
       "      <th>count</th>\n",
       "      <th>mean</th>\n",
       "      <th>std</th>\n",
       "      <th>min</th>\n",
       "      <th>25%</th>\n",
       "      <th>50%</th>\n",
       "      <th>75%</th>\n",
       "      <th>max</th>\n",
       "    </tr>\n",
       "  </thead>\n",
       "  <tbody>\n",
       "    <tr>\n",
       "      <th>Ingresos_Mensuales</th>\n",
       "      <td>100.0</td>\n",
       "      <td>6.5532</td>\n",
       "      <td>3.998836</td>\n",
       "      <td>1.6</td>\n",
       "      <td>2.86</td>\n",
       "      <td>4.60</td>\n",
       "      <td>10.25</td>\n",
       "      <td>14.0</td>\n",
       "    </tr>\n",
       "    <tr>\n",
       "      <th>Monto_deuda_actual</th>\n",
       "      <td>100.0</td>\n",
       "      <td>5.3016</td>\n",
       "      <td>2.389373</td>\n",
       "      <td>1.2</td>\n",
       "      <td>3.57</td>\n",
       "      <td>4.96</td>\n",
       "      <td>7.00</td>\n",
       "      <td>12.0</td>\n",
       "    </tr>\n",
       "    <tr>\n",
       "      <th>label</th>\n",
       "      <td>100.0</td>\n",
       "      <td>0.5000</td>\n",
       "      <td>0.502519</td>\n",
       "      <td>0.0</td>\n",
       "      <td>0.00</td>\n",
       "      <td>0.50</td>\n",
       "      <td>1.00</td>\n",
       "      <td>1.0</td>\n",
       "    </tr>\n",
       "  </tbody>\n",
       "</table>\n",
       "</div>"
      ],
      "text/plain": [
       "                    count    mean       std  min   25%   50%    75%   max\n",
       "Ingresos_Mensuales  100.0  6.5532  3.998836  1.6  2.86  4.60  10.25  14.0\n",
       "Monto_deuda_actual  100.0  5.3016  2.389373  1.2  3.57  4.96   7.00  12.0\n",
       "label               100.0  0.5000  0.502519  0.0  0.00  0.50   1.00   1.0"
      ]
     },
     "execution_count": 3,
     "metadata": {},
     "output_type": "execute_result"
    }
   ],
   "source": [
    "df.describe().T  # Descripcion de las variables"
   ]
  },
  {
   "cell_type": "code",
   "execution_count": 4,
   "metadata": {},
   "outputs": [
    {
     "data": {
      "image/png": "[encoded data removed]",
      "text/plain": [
       "<Figure size 700x500 with 1 Axes>"
      ]
     },
     "metadata": {},
     "output_type": "display_data"
    }
   ],
   "source": [
    "plt.figure(figsize=(7,5))\n",
    "ax = sns.scatterplot(x='Ingresos_Mensuales', y='Monto_deuda_actual', hue='label', data=df, style='label', s=80)\n",
    "handles, labels = ax.get_legend_handles_labels()\n",
    "ax.legend(handles[1:], ['Not admitted', 'Admitted'])\n",
    "plt.title('Scatter plot of training data')\n",
    "plt.show(ax)\n",
    "#Este gráfico ayuda a visualizar cómo los ingresos y la deuda afectan la probabilidad de aprobación de crédito"
   ]
  },
  {
   "cell_type": "markdown",
   "metadata": {},
   "source": [
    "### 1.2 Implementation\n",
    "\n",
    "#### 1.2.1 Sigmoid Function\n",
    "\n",
    "Logistic regression hypothesis: \n",
    "\n",
    "$$h_\\theta(x) = g(\\theta^Tx)$$\n",
    "\n",
    "$$g(z) = \\frac{1}{1+e^{-z}}$$"
   ]
  },
  {
   "cell_type": "code",
   "execution_count": 5,
   "metadata": {},
   "outputs": [],
   "source": [
    "def sigmoid(z):\n",
    "    z = np.array(z)\n",
    "    return 1 / (1+np.exp(-z))\n",
    "#Este código define la función sigmoide, que es fundamental en modelos de regresión logística \n",
    "#ayudará a calcular probabilidades en tu modelo"
   ]
  },
  {
   "cell_type": "markdown",
   "metadata": {},
   "source": [
    "Plot of sigmoid function:"
   ]
  },
  {
   "cell_type": "code",
   "execution_count": 6,
   "metadata": {},
   "outputs": [
    {
     "data": {
      "image/png": "[encoded data removed]",
      "text/plain": [
       "<Figure size 900x300 with 1 Axes>"
      ]
     },
     "metadata": {},
     "output_type": "display_data"
    }
   ],
   "source": [
    "import matplotlib.pyplot as plt\n",
    "%matplotlib inline\n",
    "z = np.linspace(-10, 10, 100)\n",
    "sig = sigmoid(z)\n",
    "plt.figure(figsize=(9, 3))\n",
    "plt.plot([-10, 10], [0, 0], \"k-\")\n",
    "plt.plot([-10, 10], [0.5, 0.5], \"k:\")\n",
    "plt.plot([-10, 10], [1, 1], \"k:\")\n",
    "plt.plot([0, 0], [-1.1, 1.1], \"k-\")\n",
    "plt.plot(z, sig, \"b-\", linewidth=2)\n",
    "plt.xlabel(\"z\")\n",
    "plt.axis([-10, 10, -0.1, 1.1])\n",
    "plt.show()\n",
    "#- Aplica la función sigmoide a cada valor de z para calcular su transformación.\n",
    "#El gráfico mostrará la clásica curva sigmoide:\n",
    "#Se mantiene cerca de 0 para valores negativos de z.\n",
    "#Se aproxima a 1 para valores positivos de z.\n",
    "#En z=0, el valor de la sigmoide es 0.5.\n"
   ]
  },
  {
   "cell_type": "markdown",
   "metadata": {},
   "source": [
    "#### 1.2.2 Cost Function and Gradient\n",
    "La función de costo en regresión logística es: $$J(\\theta) = -\\frac{1}{m}\\sum_{i=1}^m[y^i log(h_\\theta(x^i))+(1-y^i)log(1-h_\\theta(x^i))]$$ Implementación vectorizada: $h = g(X\\theta)$ traduceme esto $J(\\theta) = \\frac{1}{m}(-y^T log(h)-(1-y)^Tlog(1-h))$ El gradiente del costo es un vector de la misma longitud que $\\theta$ donde el $j^{ésimo}$ elemento (para $j=0,1,...,n$) se define de la siguiente manera: $$\\nabla J(\\theta) = \\frac{1}{m} \\sum_{i=1}^m ((h_\\theta(x^i) - y^i) \\cdot x_j^i)$$ Vectorizado: $\\nabla J(\\theta) = \\frac{1}{m} \\cdot X^T \\cdot (g(X\\theta)-y)$"
   ]
  },
  {
   "cell_type": "code",
   "execution_count": null,
   "metadata": {},
   "outputs": [],
   "source": [
    "def cost_function(theta, X, y):\n",
    "    m = y.shape[0]\n",
    "    theta = theta[:, np.newaxis] #truco para hacer que Numpy minimice el trabajo\n",
    "    h = sigmoid(X.dot(theta))\n",
    "    J = (1/m) * (-y.T.dot(np.log(h)) - (1-y).T.dot(np.log(1-h)))\n",
    "\n",
    "    diff_hy = h - y\n",
    "    grad = (1/m) * diff_hy.T.dot(X)\n",
    "\n",
    "    return J, grad\n",
    "#Este código implementa una parte clave del entrenamiento de un modelo de regresión logística: la función de costo y el gradiente\n"
   ]
  },
  {
   "cell_type": "code",
   "execution_count": null,
   "metadata": {},
   "outputs": [],
   "source": [
    "m = df.shape[0]\n",
    "X = np.hstack((np.ones((m,1)),df[['Ingresos_Mensuales', 'Monto_deuda_actual']].values))\n",
    "y = np.array(df.label.values).reshape(-1,1)\n",
    "initial_theta = np.zeros(shape=(X.shape[1]))\n",
    "#- m: número de muestras\n",
    "# X: matriz de características con columna de unos para el sesgo (bias)\n",
    "# y: vector columna con las etiquetas\n",
    "# initial_theta: vector de parámetros inicializado en ceros\n"
   ]
  },
  {
   "cell_type": "code",
   "execution_count": 9,
   "metadata": {},
   "outputs": [
    {
     "name": "stdout",
     "output_type": "stream",
     "text": [
      "Cost at initial theta (zeros): [[0.69314718]]\n",
      "Expected cost (approx): 0.693\n",
      "Gradient at initial theta (zeros):\n",
      "[[ 0.    ]\n",
      " [-1.8234]\n",
      " [ 0.8212]]\n",
      "Expected gradients (approx):\n",
      " -0.1000\n",
      " -12.0092\n",
      " -11.2628\n"
     ]
    }
   ],
   "source": [
    "cost, grad = cost_function(initial_theta, X, y)\n",
    "print('Cost at initial theta (zeros):', cost)\n",
    "print('Expected cost (approx): 0.693')\n",
    "print('Gradient at initial theta (zeros):')\n",
    "print(grad.T)\n",
    "print('Expected gradients (approx):\\n -0.1000\\n -12.0092\\n -11.2628')"
   ]
  },
  {
   "cell_type": "code",
   "execution_count": null,
   "metadata": {},
   "outputs": [],
   "source": [
    "#Tu modelo indica que:\n",
    "# Más ingresos mensuales → mayor probabilidad de aprobación (peso más positivo).\n",
    "# Más deuda actual → menor probabilidad de aprobación (peso más negativo).\n"
   ]
  },
  {
   "cell_type": "code",
   "execution_count": null,
   "metadata": {},
   "outputs": [
    {
     "name": "stdout",
     "output_type": "stream",
     "text": [
      "Cost at test theta: [[10.61408]]\n",
      "Expected cost (approx): 0.218\n",
      "Gradient at test theta:\n",
      "[[-0.5   ]\n",
      " [-5.1   ]\n",
      " [-1.8296]]\n",
      "Expected gradients (approx):\n",
      " 0.043\n",
      " 2.566\n",
      " 2.647\n"
     ]
    }
   ],
   "source": [
    "test_theta = np.array([-24, 0.2, 0.2])\n",
    "[cost, grad] = cost_function(test_theta, X, y)\n",
    "\n",
    "print('Cost at test theta:', cost)\n",
    "print('Expected cost (approx): 0.218')\n",
    "print('Gradient at test theta:')\n",
    "print(grad.T)\n",
    "print('Expected gradients (approx):\\n 0.043\\n 2.566\\n 2.647')\n",
    "#se esta comparando los resultados reales con valores esperados conocidos para asegurar \n",
    "#  que la implementación numérica de la función cost_function()\n"
   ]
  },
  {
   "cell_type": "markdown",
   "metadata": {},
   "source": [
    "### 2.6 Codigo Equivalente usando  Scikit-Learn:"
   ]
  },
  {
   "cell_type": "code",
   "execution_count": 11,
   "metadata": {},
   "outputs": [
    {
     "name": "stdout",
     "output_type": "stream",
     "text": [
      "\n",
      "🔍 Evaluación del Modelo (scikit-learn):\n",
      "Accuracy: 1.0\n",
      "Matriz de confusión:\n",
      " [[50  0]\n",
      " [ 0 50]]\n",
      "\n",
      "Reporte de clasificación:\n",
      "               precision    recall  f1-score   support\n",
      "\n",
      "           0       1.00      1.00      1.00        50\n",
      "           1       1.00      1.00      1.00        50\n",
      "\n",
      "    accuracy                           1.00       100\n",
      "   macro avg       1.00      1.00      1.00       100\n",
      "weighted avg       1.00      1.00      1.00       100\n",
      "\n"
     ]
    }
   ],
   "source": [
    "# 1. Importar librerías necesarias\n",
    "import numpy as np\n",
    "import pandas as pd\n",
    "from sklearn.linear_model import LogisticRegression\n",
    "from sklearn.model_selection import train_test_split\n",
    "from sklearn.metrics import accuracy_score, confusion_matrix, classification_report\n",
    "\n",
    "# 2. Cargar los datos\n",
    "df = pd.read_csv(\"C:\\\\Users\\\\WALTER\\\\Downloads\\\\datos_credito_bogota_millones.csv\")  \n",
    "df.columns = ['Ingresos_Mensuales', 'Monto_deuda_actual','label']\n",
    "df.head()\n",
    "\n",
    "# 3. Definir X e y\n",
    "X = df[[\"Ingresos_Mensuales\", \"Monto_deuda_actual\"]]  # NOTA: aquí no se necesita add_constant\n",
    "y = df[\"label\"]\n",
    "\n",
    "# 4. Dividir en entrenamiento y prueba (opcional)\n",
    "# En este caso se entrena con todos los datos (como con statsmodels)\n",
    "# X_train, X_test, y_train, y_test = train_test_split(X, y, test_size=0.3, random_state=42)\n",
    "\n",
    "\n",
    "\n",
    "# 5. Crear y ajustar el modelo de regresión logística\n",
    "modelo = LogisticRegression(solver='liblinear')\n",
    "\n",
    "# Solvers disponibles:\n",
    "# - 'liblinear'  : Bueno para datasets pequeños. Soporta L1 y L2. (por defecto en regresión binaria)\n",
    "# - 'lbfgs'      : Rápido, robusto y multiclase (one-vs-rest). Ideal para muchos datos. Soporta solo L2.\n",
    "# - 'newton-cg'  : Similar a lbfgs, pero usa el método de Newton. Solo L2.\n",
    "# - 'sag'        : Estocástico (bueno para datasets grandes). Solo L2. Requiere que X esté estandarizado.\n",
    "# - 'saga'       : Como 'sag' pero soporta L1, L2 y elastic net. Funciona bien con datos dispersos (sparse).\n",
    "\n",
    "modelo.fit(X, y)\n",
    "\n",
    "# 6. Obtener predicciones de clase y de probabilidad\n",
    "df[\"probabilidad\"] = modelo.predict_proba(X)[:, 1]\n",
    "df[\"prediccion\"] = modelo.predict(X)\n",
    "\n",
    "# 7. Evaluar desempeño del modelo\n",
    "print(\"\\n🔍 Evaluación del Modelo (scikit-learn):\")\n",
    "print(\"Accuracy:\", round(accuracy_score(y, df[\"prediccion\"]), 4))\n",
    "print(\"Matriz de confusión:\\n\", confusion_matrix(y, df[\"prediccion\"]))\n",
    "print(\"\\nReporte de clasificación:\\n\", classification_report(y, df[\"prediccion\"]))\n",
    "\n",
    "################################################################################# NOTAS IMPORTANTES############################################3\n",
    "#LogisticRegression() usa regularización L2 por defecto. Puedes cambiarla con penalty='l1' y usar solver='liblinear' para compatibilidad.\n",
    "#Puedes ajustar la fuerza de regularización con el parámetro C. Por ejemplo: LogisticRegression(C=0.1) (a menor C, mayor regularización).\n",
    "#predict_proba() devuelve las probabilidades de pertenecer a cada clase (útil para umbrales distintos de 0.5).\n",
    "\n",
    "\n"
   ]
  },
  {
   "cell_type": "code",
   "execution_count": null,
   "metadata": {},
   "outputs": [],
   "source": [
    "# este resultado indica que:\n",
    "# El patrón en los datos esta muy bien definido (¡ideal para el modelo!).\n",
    "# Las variables Ingresos_Mensuales y Monto_deuda_actual en el patron de datos son extremadamente predictivas.\n"
   ]
  },
  {
   "cell_type": "markdown",
   "metadata": {},
   "source": [
    "## Regresión Logística (Logit clásico) con statsmodels"
   ]
  },
  {
   "cell_type": "code",
   "execution_count": 12,
   "metadata": {},
   "outputs": [
    {
     "name": "stdout",
     "output_type": "stream",
     "text": [
      "Warning: Maximum number of iterations has been exceeded.\n",
      "         Current function value: 0.000000\n",
      "         Iterations: 35\n",
      "                           Logit Regression Results                           \n",
      "==============================================================================\n",
      "Dep. Variable:                  label   No. Observations:                  100\n",
      "Model:                          Logit   Df Residuals:                       97\n",
      "Method:                           MLE   Df Model:                            2\n",
      "Date:                Sun, 15 Jun 2025   Pseudo R-squ.:                   1.000\n",
      "Time:                        11:17:29   Log-Likelihood:            -3.5503e-05\n",
      "converged:                      False   LL-Null:                       -69.315\n",
      "Covariance Type:            nonrobust   LLR p-value:                 7.889e-31\n",
      "======================================================================================\n",
      "                         coef    std err          z      P>|z|      [0.025      0.975]\n",
      "--------------------------------------------------------------------------------------\n",
      "const                -12.5746   3065.055     -0.004      0.997   -6019.971    5994.822\n",
      "Ingresos_Mensuales     6.6396    947.119      0.007      0.994   -1849.679    1862.958\n",
      "Monto_deuda_actual    -7.5275   1578.448     -0.005      0.996   -3101.229    3086.174\n",
      "======================================================================================\n",
      "\n",
      "Complete Separation: The results show that there iscomplete separation or perfect prediction.\n",
      "In this case the Maximum Likelihood Estimator does not exist and the parameters\n",
      "are not identified.\n",
      "\n",
      "🔍 Evaluación del Modelo:\n",
      "Accuracy: 1.0\n",
      "Matriz de confusión:\n",
      " [[50  0]\n",
      " [ 0 50]]\n"
     ]
    },
    {
     "name": "stderr",
     "output_type": "stream",
     "text": [
      "c:\\Users\\WALTER\\AppData\\Local\\Programs\\Python\\Python313\\Lib\\site-packages\\statsmodels\\discrete\\discrete_model.py:227: PerfectSeparationWarning: Perfect separation or prediction detected, parameter may not be identified\n",
      "  warnings.warn(msg, category=PerfectSeparationWarning)\n",
      "c:\\Users\\WALTER\\AppData\\Local\\Programs\\Python\\Python313\\Lib\\site-packages\\statsmodels\\discrete\\discrete_model.py:227: PerfectSeparationWarning: Perfect separation or prediction detected, parameter may not be identified\n",
      "  warnings.warn(msg, category=PerfectSeparationWarning)\n",
      "c:\\Users\\WALTER\\AppData\\Local\\Programs\\Python\\Python313\\Lib\\site-packages\\statsmodels\\discrete\\discrete_model.py:227: PerfectSeparationWarning: Perfect separation or prediction detected, parameter may not be identified\n",
      "  warnings.warn(msg, category=PerfectSeparationWarning)\n",
      "c:\\Users\\WALTER\\AppData\\Local\\Programs\\Python\\Python313\\Lib\\site-packages\\statsmodels\\base\\model.py:607: ConvergenceWarning: Maximum Likelihood optimization failed to converge. Check mle_retvals\n",
      "  warnings.warn(\"Maximum Likelihood optimization failed to \"\n"
     ]
    }
   ],
   "source": [
    "# 1. Importar librerías necesarias\n",
    "import numpy as np\n",
    "import pandas as pd\n",
    "import statsmodels.api as sm\n",
    "from sklearn.model_selection import train_test_split\n",
    "from sklearn.metrics import accuracy_score, confusion_matrix\n",
    "\n",
    "df = pd.read_csv(\"C:\\\\Users\\\\WALTER\\\\Downloads\\\\datos_credito_bogota_millones.csv\")  \n",
    "df.columns = ['Ingresos_Mensuales', 'Monto_deuda_actual','label']\n",
    "df.head()\n",
    "\n",
    "\n",
    "# 2 Definir variables X e y\n",
    "X = sm.add_constant(df[[\"Ingresos_Mensuales\", \"Monto_deuda_actual\"]])  # Agrega columna 'const' para intercepto\n",
    "y = df[\"label\"]\n",
    "\n",
    "# 4. Dividir en entrenamiento y prueba (opcional\n",
    "# X_train, X_test, y_train, y_test = train_test_split(X, y, test_size=0.3, random_state=42)\n",
    "\n",
    "# 5. Crear y ajustar el modelo Logit\n",
    "logit_model = sm.Logit(y, X)\n",
    "result = logit_model.fit()\n",
    "\n",
    "# 6. Mostrar resumen estadístico del modelo\n",
    "print(result.summary())\n",
    "\n",
    "# 7. Obtener predicciones (probabilidades)\n",
    "df[\"probabilidad\"] = result.predict(X)\n",
    "\n",
    "# 8. Clasificación binaria con umbral 0.5\n",
    "df[\"prediccion\"] = (df[\"probabilidad\"] >= 0.5).astype(int)\n",
    "\n",
    "# 9. Medir desempeño del modelo\n",
    "print(\"\\n🔍 Evaluación del Modelo:\")\n",
    "print(\"Accuracy:\", round(accuracy_score(y, df[\"prediccion\"]), 4))\n",
    "print(\"Matriz de confusión:\\n\", confusion_matrix(y, df[\"prediccion\"]))\n",
    "\n",
    "################################################################################# NOTAS IMPORTANTES############################################3\n",
    "#¿Qué ventajas ofrece statsmodels?\n",
    "#Permite analizar la significancia estadística de cada variable (p-value).\n",
    "#Muestra intervalos de confianza y errores estándar.\n",
    "#Es ideal para interpretación, informes técnicos y papers.\n",
    "\n",
    "\n"
   ]
  },
  {
   "cell_type": "code",
   "execution_count": null,
   "metadata": {},
   "outputs": [],
   "source": [
    "# Accuracy: 1.0 y matriz de confusión perfecta\n",
    "# El modelo clasificó todos los ejemplos correctamente.\n",
    "\n"
   ]
  },
  {
   "cell_type": "markdown",
   "metadata": {},
   "source": [
    "# 📘 Interpretación de los Coeficientes en Regresión Logística\n",
    "\n",
    "## ✅ 1. ¿Qué son los *odds*?\n",
    "\n",
    "La **razón de probabilidades** (odds) se calcula así:\n",
    "\n",
    "$$\n",
    "\\text{odds} = \\frac{p}{1 - p}\n",
    "$$\n",
    "\n",
    "Donde $p$ es la probabilidad de que ocurra el evento (por ejemplo, ser admitido).\n",
    "\n",
    "| Probabilidad $p$ | Odds $\\frac{p}{1 - p}$ |\n",
    "|------------------|------------------------|\n",
    "| 0.50 (50%)       | 1                      |\n",
    "| 0.75 (75%)       | 3                      |\n",
    "| 0.20 (20%)       | 0.25                   |\n",
    "| 0.90 (90%)       | 9                      |\n",
    "\n",
    "---\n",
    "\n",
    "## ✅ 2. Modelo Logístico\n",
    "\n",
    "La regresión logística modela el **logit** de la probabilidad como una combinación lineal de variables:\n",
    "\n",
    "$$\n",
    "\\log\\left( \\frac{p}{1 - p} \\right) = \\beta_0 + \\beta_1 x_1 + \\beta_2 x_2 + \\cdots + \\beta_n x_n\n",
    "$$\n",
    "\n",
    "- El lado izquierdo es el **logit** (logaritmo de los odds).\n",
    "- Cada coeficiente $\\beta_i$ representa el cambio en el log-odds.\n",
    "- Usamos $e^{\\beta_i}$ para interpretar directamente sobre los odds.\n",
    "\n",
    "---\n",
    "\n",
    "## ✅ 3. Interpretación de $e^{\\beta}$ (Razón de odds)\n",
    "\n",
    "| Tipo de variable         | Interpretación de $e^{\\beta}$ |\n",
    "|--------------------------|-------------------------------|\n",
    "| **Continua**             | Por cada unidad adicional, los **odds** del evento se multiplican por $e^{\\beta}$. |\n",
    "| **Categórica binaria**   | Al pasar de la categoría base (0) a la comparada (1), los odds se multiplican por $e^{\\beta}$. |\n",
    "| **Categórica (dummies)** | Comparado con la categoría de referencia, los odds se multiplican por $e^{\\beta}$. |\n",
    "\n",
    "---\n",
    "\n",
    "## 🧪 Ejemplo 1: Variable Continua\n",
    "\n",
    "Supón que:\n",
    "\n",
    "$$\n",
    "\\beta = 0.2 \\Rightarrow e^{0.2} \\approx 1.22\n",
    "$$\n",
    "\n",
    "**Interpretación:**  \n",
    "Por cada unidad adicional en la variable (ej. puntaje de examen), los **odds del evento aumentan un 22%**.  \n",
    "La probabilidad también aumenta, aunque no de forma lineal.\n",
    "\n",
    "---\n",
    "\n",
    "## 🧪 Ejemplo 2: Variable Categórica Binaria\n",
    "\n",
    "Supón que:\n",
    "\n",
    "$$\n",
    "\\beta = -0.4 \\Rightarrow e^{-0.4} \\approx 0.67\n",
    "$$\n",
    "\n",
    "**Interpretación:**  \n",
    "Pasar de la categoría base a la comparada **reduce los odds del evento en 33%**.  \n",
    "Esto implica que la **probabilidad del evento disminuye**.\n",
    "\n",
    "---\n",
    "\n",
    "## 🧠 Notas clave\n",
    "\n",
    "- $\\beta$ afecta el **logaritmo de los odds**.\n",
    "- $e^{\\beta}$ afecta directamente los **odds** (razón de probabilidades).\n",
    "- La **probabilidad** no cambia de forma lineal respecto a $\\beta$.\n",
    "\n",
    "---\n",
    "\n",
    "## ✅ Resumen\n",
    "\n",
    "> “Cada coeficiente $\\beta$ nos dice cómo cambia la **razón de que ocurra frente a que no ocurra el evento**.  \n",
    "> Si tomamos $e^{\\beta}$, eso nos dice cuántas veces **más o menos probable** es que ocurra el evento cuando cambia esa variable.”\n"
   ]
  },
  {
   "cell_type": "markdown",
   "metadata": {},
   "source": [
    "## Calculo de la Curva ROC"
   ]
  },
  {
   "cell_type": "markdown",
   "metadata": {},
   "source": [
    "# 📈 ¿Cómo surge la curva ROC?\n",
    "\n",
    "La **curva ROC (Receiver Operating Characteristic)** muestra gráficamente la capacidad de un modelo de clasificación binaria para distinguir entre clases a medida que varía el **umbral de decisión**.\n",
    "\n",
    "Se construye comparando los valores **predichos como probabilidades** con los valores reales (0 o 1).\n",
    "\n",
    "---\n",
    "\n",
    "## 🔁 ¿Cómo se construye paso a paso?\n",
    "\n",
    "### 1. El modelo predice probabilidades\n",
    "\n",
    "Por ejemplo:\n",
    "\n",
    "| Observación | Probabilidad predicha |\n",
    "|-------------|------------------------|\n",
    "| 1           | 0.90                   |\n",
    "| 2           | 0.75                   |\n",
    "| 3           | 0.60                   |\n",
    "| 4           | 0.45                   |\n",
    "| 5           | 0.20                   |\n",
    "\n",
    "---\n",
    "\n",
    "### 2. Se elige un umbral\n",
    "\n",
    "Un modelo de clasificación convierte las probabilidades en clases con un **umbral**.\n",
    "\n",
    "- Umbral típico: **0.5**\n",
    "- Si cambiamos el umbral, cambian las predicciones y la matriz de confusión.\n",
    "\n",
    "---\n",
    "\n",
    "### 3. Para cada umbral se calcula:\n",
    "\n",
    "- **TPR** (True Positive Rate o Sensibilidad):\n",
    "\n",
    "$$\n",
    "TPR = \\frac{TP}{TP + FN}\n",
    "$$\n",
    "\n",
    "- **FPR** (False Positive Rate o 1 - especificidad):\n",
    "\n",
    "$$\n",
    "FPR = \\frac{FP}{FP + TN}\n",
    "$$\n",
    "\n",
    "---\n",
    "\n",
    "### 4. Se repite para muchos umbrales\n",
    "\n",
    "Por ejemplo: desde 1.0 hasta 0.0, en pasos.\n",
    "\n",
    "Para cada umbral:\n",
    "- Se generan predicciones binarias\n",
    "- Se calcula la matriz de confusión\n",
    "- Se obtienen TPR y FPR\n",
    "- Se guarda el punto \\( (FPR, TPR) \\)\n",
    "\n",
    "---\n",
    "\n",
    "### 5. Se grafica la curva\n",
    "\n",
    "- Eje **X**: FPR (Tasa de Falsos Positivos)\n",
    "- Eje **Y**: TPR (Tasa de Verdaderos Positivos)\n",
    "\n",
    "$$\n",
    "\\text{Curva ROC} = \\{(FPR, TPR) \\text{ para todos los umbrales}\\}\n",
    "$$\n",
    "\n",
    "- Un modelo **perfecto** alcanza el punto (0, 1)\n",
    "- Un modelo **aleatorio** genera una línea diagonal de (0, 0) a (1, 1)\n",
    "\n",
    "---\n",
    "\n",
    "## 🧠 ¿Qué representa la curva ROC?\n",
    "\n",
    "Muestra el **compromiso entre sensibilidad y especificidad**.  \n",
    "\n",
    "Cuanto más arriba y a la izquierda esté la curva, **mejor es el modelo**.\n",
    "\n",
    "Se puede resumir con el **AUC (Área bajo la curva ROC)**.\n",
    "\n",
    "---\n",
    "\n",
    "### AUC y su interpretación\n",
    "\n",
    "| AUC         | Interpretación                      |\n",
    "|-------------|--------------------------------------|\n",
    "| 0.5         | Modelo aleatorio                    |\n",
    "| 0.6 – 0.7   | Discriminación pobre                |\n",
    "| 0.7 – 0.8   | Aceptable                           |\n",
    "| 0.8 – 0.9   | Buena                               |\n",
    "| 0.9 – 1.0   | Excelente                           |\n",
    "| 1.0         | Perfecto (sospechoso en la práctica) |\n",
    "\n",
    "---\n",
    "\n",
    "## 🎯 Resumen\n",
    "\n",
    "1. El modelo predice probabilidades.\n",
    "2. Se prueban muchos umbrales.\n",
    "3. Para cada uno, se calcula TPR y FPR.\n",
    "4. Se grafican los puntos \\( (FPR, TPR) \\).\n",
    "5. Se analiza el **AUC** para medir la calidad general.\n",
    "\n",
    "---\n",
    "\n",
    "> ✅ La curva ROC **no depende de un solo umbral** y es muy útil cuando las clases están desbalanceadas.\n",
    "\n"
   ]
  },
  {
   "cell_type": "code",
   "execution_count": 13,
   "metadata": {},
   "outputs": [
    {
     "data": {
      "image/png": "[encoded data removed]",
      "text/plain": [
       "<Figure size 800x600 with 1 Axes>"
      ]
     },
     "metadata": {},
     "output_type": "display_data"
    }
   ],
   "source": [
    "from sklearn.metrics import roc_curve, roc_auc_score\n",
    "import matplotlib.pyplot as plt\n",
    "\n",
    "# 10. Calcular valores para la curva ROC\n",
    "fpr, tpr, thresholds = roc_curve(y, df[\"probabilidad\"])\n",
    "roc_auc = roc_auc_score(y, df[\"probabilidad\"])\n",
    "\n",
    "# 11. Graficar la curva ROC\n",
    "plt.figure(figsize=(8,6))\n",
    "plt.plot(fpr, tpr, color='darkorange', lw=2, label=f'ROC curve (AUC = {roc_auc:.2f})')\n",
    "plt.plot([0, 1], [0, 1], color='navy', lw=2, linestyle='--', label='Random')\n",
    "plt.xlim([0.0, 1.0])\n",
    "plt.ylim([0.0, 1.05])\n",
    "plt.xlabel('Tasa de Falsos Positivos (FPR)')\n",
    "plt.ylabel('Tasa de Verdaderos Positivos (TPR)')\n",
    "plt.title('Curva ROC - Regresión Logística (statsmodels)')\n",
    "plt.legend(loc=\"lower right\")\n",
    "plt.grid(True)\n",
    "plt.show()"
   ]
  },
  {
   "cell_type": "code",
   "execution_count": null,
   "metadata": {},
   "outputs": [],
   "source": [
    "# - FPR = 0 y TPR = 1: señal de que el modelo no comete errores al clasificar positivos y negativos.\n",
    "# La línea punteada azul representa un clasificador aleatorio para comparación.\n",
    "# El área bajo la curva (AUC) igual a 1 respalda lo que ya veías en la matriz de confusión: precisión total.\n"
   ]
  },
  {
   "cell_type": "markdown",
   "metadata": {},
   "source": [
    "## Mas Metricas de la matriz de confusión  "
   ]
  },
  {
   "cell_type": "code",
   "execution_count": 14,
   "metadata": {},
   "outputs": [],
   "source": [
    "from sklearn.metrics import confusion_matrix\n",
    "\n",
    "def metricas_matriz_confusion(y_verdadero, y_predicho):\n",
    "    \"\"\"\n",
    "    Calcula e imprime los principales indicadores derivados de la matriz de confusión\n",
    "    para un problema de clasificación binaria.\n",
    "\n",
    "    Parámetros:\n",
    "    - y_verdadero: etiquetas reales (lista, array o Series)\n",
    "    - y_predicho: etiquetas predichas (lista, array o Series)\n",
    "    \"\"\"\n",
    "    # Extraer verdaderos y falsos positivos/negativos\n",
    "    tn, fp, fn, tp = confusion_matrix(y_verdadero, y_predicho).ravel()\n",
    "\n",
    "    # Cálculo de métricas\n",
    "    exactitud     = (tp + tn) / (tp + tn + fp + fn)\n",
    "    precision     = tp / (tp + fp) if (tp + fp) > 0 else 0\n",
    "    sensibilidad  = tp / (tp + fn) if (tp + fn) > 0 else 0  # también llamada Recall\n",
    "    especificidad = tn / (tn + fp) if (tn + fp) > 0 else 0\n",
    "    valor_f1      = 2 * (precision * sensibilidad) / (precision + sensibilidad) if (precision + sensibilidad) > 0 else 0\n",
    "    tasa_falsos_positivos = fp / (fp + tn) if (fp + tn) > 0 else 0\n",
    "\n",
    "    # Imprimir resultados\n",
    "    print(\"📊 Métricas de la Matriz de Confusión\")\n",
    "    print(f\" Verdaderos Positivos (VP / TP): {tp}\")\n",
    "    print(f\" Falsos Positivos (FP): {fp}\")\n",
    "    print(f\" Falsos Negativos (FN): {fn}\")\n",
    "    print(f\" Verdaderos Negativos (VN / TN): {tn}\")\n",
    "    print(f\"\\n Exactitud:     {exactitud:.4f}\")\n",
    "    print(f\" Precisión:     {precision:.4f}\")\n",
    "    print(f\" Sensibilidad:  {sensibilidad:.4f}\")\n",
    "    print(f\" Especificidad: {especificidad:.4f}\")\n",
    "    print(f\" Valor F1:      {valor_f1:.4f}\")\n",
    "    print(f\" Tasa FP:       {tasa_falsos_positivos:.4f}\")\n"
   ]
  },
  {
   "cell_type": "code",
   "execution_count": 17,
   "metadata": {},
   "outputs": [
    {
     "name": "stdout",
     "output_type": "stream",
     "text": [
      "📊 Métricas de la Matriz de Confusión\n",
      " Verdaderos Positivos (VP / TP): 50\n",
      " Falsos Positivos (FP): 0\n",
      " Falsos Negativos (FN): 0\n",
      " Verdaderos Negativos (VN / TN): 50\n",
      "\n",
      " Exactitud:     1.0000\n",
      " Precisión:     1.0000\n",
      " Sensibilidad:  1.0000\n",
      " Especificidad: 1.0000\n",
      " Valor F1:      1.0000\n",
      " Tasa FP:       0.0000\n"
     ]
    }
   ],
   "source": [
    "metricas_matriz_confusion(y, df[\"prediccion\"])"
   ]
  },
  {
   "cell_type": "code",
   "execution_count": null,
   "metadata": {},
   "outputs": [],
   "source": [
    "#resultado\n",
    "#Exactitud 1.0000 → Clasifico correctamente el 100 % de los casos.\n",
    "#Precisión y sensibilidad de 1.0000 →  ni falsos positivos ni falsos negativos.\n",
    "# Valor F1 de 1.0000 →  equilibrio ideal entre precisión y sensibilidad.\n",
    "#Tasa de falsos positivos 0.0000 → El modelo no etiquetó incorrectamente a ningún negativo como positivo.\n"
   ]
  },
  {
   "cell_type": "code",
   "execution_count": null,
   "metadata": {},
   "outputs": [],
   "source": []
  }
 ],
 "metadata": {
  "kernelspec": {
   "display_name": "Python 3",
   "language": "python",
   "name": "python3"
  },
  "language_info": {
   "codemirror_mode": {
    "name": "ipython",
    "version": 3
   },
   "file_extension": ".py",
   "mimetype": "text/x-python",
   "name": "python",
   "nbconvert_exporter": "python",
   "pygments_lexer": "ipython3",
   "version": "3.13.3"
  }
 },
 "nbformat": 4,
 "nbformat_minor": 4
}
